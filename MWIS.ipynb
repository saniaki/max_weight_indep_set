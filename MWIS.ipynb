{
 "cells": [
  {
   "cell_type": "code",
   "execution_count": 1,
   "metadata": {},
   "outputs": [],
   "source": [
    "from numpy import loadtxt\n",
    "import math\n",
    "import copy\n",
    "import csv"
   ]
  },
  {
   "cell_type": "code",
   "execution_count": 2,
   "metadata": {},
   "outputs": [
    {
     "name": "stdout",
     "output_type": "stream",
     "text": [
      "max weight of independent set is:\n",
      "2955353732\n",
      "\n",
      "\n",
      "the independent set with max weight has these vortecies:\n",
      "[1000, 998, 995, 993, 991, 989, 987, 985, 983, 981, 979, 977, 975, 973, 971, 969, 966, 964, 962, 960, 958, 956, 954, 952, 950, 948, 946, 944, 942, 940, 938, 936, 934, 932, 929, 927, 924, 921, 919, 917, 915, 913, 911, 909, 907, 905, 903, 900, 898, 896, 894, 892, 890, 888, 886, 884, 882, 880, 878, 876, 873, 871, 868, 866, 864, 861, 859, 857, 855, 853, 851, 849, 846, 843, 841, 839, 837, 834, 832, 829, 827, 825, 823, 821, 819, 816, 814, 812, 809, 806, 803, 801, 799, 797, 795, 793, 790, 788, 786, 784, 781, 778, 776, 774, 772, 770, 768, 766, 763, 760, 757, 755, 752, 750, 748, 745, 743, 741, 739, 737, 735, 733, 730, 728, 726, 723, 721, 719, 717, 715, 713, 710, 708, 706, 704, 702, 699, 697, 695, 692, 690, 688, 686, 684, 682, 679, 676, 673, 671, 669, 666, 664, 662, 660, 658, 656, 654, 652, 649, 647, 645, 643, 641, 639, 637, 634, 632, 630, 628, 625, 623, 621, 619, 617, 615, 613, 610, 608, 606, 604, 602, 600, 598, 596, 594, 592, 590, 588, 586, 584, 581, 579, 577, 575, 573, 571, 569, 566, 563, 560, 558, 556, 554, 552, 550, 548, 545, 543, 541, 539, 537, 534, 531, 529, 527, 525, 523, 521, 519, 517, 514, 512, 510, 508, 505, 503, 500, 498, 496, 494, 492, 490, 488, 485, 483, 481, 478, 476, 474, 472, 470, 468, 466, 464, 462, 460, 458, 456, 454, 451, 449, 447, 445, 443, 441, 439, 437, 435, 433, 431, 429, 427, 425, 422, 420, 417, 415, 413, 410, 408, 406, 404, 402, 399, 397, 395, 393, 391, 389, 387, 385, 383, 381, 379, 377, 375, 373, 371, 369, 367, 365, 363, 361, 359, 357, 355, 353, 351, 349, 347, 345, 343, 341, 339, 337, 335, 333, 331, 329, 327, 325, 323, 321, 318, 316, 314, 312, 310, 308, 306, 304, 302, 300, 298, 296, 294, 292, 289, 287, 285, 283, 281, 279, 277, 275, 273, 271, 269, 267, 265, 263, 261, 258, 256, 254, 252, 249, 247, 245, 243, 240, 238, 236, 234, 232, 230, 228, 226, 223, 221, 218, 216, 214, 211, 209, 207, 205, 203, 201, 199, 197, 195, 193, 190, 187, 185, 183, 181, 179, 177, 175, 173, 170, 168, 166, 164, 162, 160, 157, 155, 153, 151, 149, 147, 145, 143, 141, 139, 136, 133, 131, 128, 126, 124, 122, 120, 117, 115, 112, 110, 108, 106, 103, 100, 98, 96, 94, 92, 90, 88, 85, 83, 81, 79, 77, 75, 72, 69, 66, 64, 62, 60, 58, 56, 54, 52, 50, 48, 46, 44, 42, 40, 38, 36, 33, 31, 28, 26, 24, 22, 20, 18, 15, 13, 10, 8, 5, 3, 1]\n",
      "\n",
      "\n",
      "the binary list for the numbers_to_check list is:\n",
      "[1, 0, 1, 0, 0, 1, 1, 0]\n"
     ]
    }
   ],
   "source": [
    "f=open('mwis.txt',\"r\")\n",
    "lines=f.readlines()\n",
    "numbers_list=[]\n",
    "for x in lines:\n",
    "    numbers_list.append(int(x))\n",
    "f.close()\n",
    "\n",
    "n = numbers_list.pop(0)\n",
    "\n",
    "A = []\n",
    "A.append(0)\n",
    "A.append(numbers_list[0]) # 0  becuase of python indexing\n",
    "\n",
    "# max weight list\n",
    "for i in range(2,len(numbers_list)+1): # +1 becuase of python indexing\n",
    "    x = max(A[i-1], A[i-2] + numbers_list[i-1]) # i-1 in numbers_list becuase of python indexing\n",
    "    A.append(x)\n",
    "    \n",
    "# reconstruction\n",
    "S = []\n",
    "i = len(A)-1\n",
    "while i >= 1:\n",
    "    if A[i-1] >= (A[i-2] + numbers_list[i-1]): # i-1 in numbers_list becuase of python indexing\n",
    "        i = i - 1\n",
    "    else:\n",
    "        S.append(i) \n",
    "        i = i - 2\n",
    "\n",
    "print('max weight of independent set is:')\n",
    "print(A[-1])\n",
    "print('\\n')\n",
    "print('the independent set with max weight has these vortecies:')\n",
    "print(S)\n",
    "\n",
    "numbers_to_check = [1, 2, 3, 4, 17, 117, 517, 997]\n",
    "bin_check = []\n",
    "for i in numbers_to_check:\n",
    "    if i in S:\n",
    "        bin_check.append(1)\n",
    "    else:\n",
    "        bin_check.append(0)\n",
    "\n",
    "\n",
    "print('\\n')\n",
    "\n",
    "print('the binary list for the numbers_to_check list is:')\n",
    "print(bin_check)"
   ]
  },
  {
   "cell_type": "code",
   "execution_count": null,
   "metadata": {},
   "outputs": [],
   "source": []
  },
  {
   "cell_type": "code",
   "execution_count": null,
   "metadata": {},
   "outputs": [],
   "source": []
  }
 ],
 "metadata": {
  "kernelspec": {
   "display_name": "Python 3",
   "language": "python",
   "name": "python3"
  },
  "language_info": {
   "codemirror_mode": {
    "name": "ipython",
    "version": 3
   },
   "file_extension": ".py",
   "mimetype": "text/x-python",
   "name": "python",
   "nbconvert_exporter": "python",
   "pygments_lexer": "ipython3",
   "version": "3.7.4"
  }
 },
 "nbformat": 4,
 "nbformat_minor": 2
}
